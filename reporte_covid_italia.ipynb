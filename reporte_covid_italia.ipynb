{
 "cells": [
  {
   "cell_type": "markdown",
   "metadata": {},
   "source": [
    "![](https://www.paho.org/sites/default/files/styles/top_hero/public/2022-07/coronavirus-ilustracion.jpg?h=4aea44c5&itok=HX70CyU6)"
   ]
  },
  {
   "cell_type": "markdown",
   "metadata": {},
   "source": [
    "[![](https://img.shields.io/badge/acceso%20al%20notebook-COVID__19__Italia.ipynb-sucess?style=for-the-badge&logo=google-colab&color=ff8000)](https://colab.research.google.com/drive/1qB19OTY4_ibC-7eW9a_F7tlQ3k8p_vO9?usp=sharing)"
   ]
  },
  {
   "cell_type": "markdown",
   "metadata": {
    "id": "eRotiFWwYio9"
   },
   "source": [
    "# **PROBLEMA DE NEGOCIO**\n",
    "\n",
    "\n",
    "---"
   ]
  },
  {
   "cell_type": "markdown",
   "metadata": {
    "id": "EuEgbNrlYoPB"
   },
   "source": [
    "Una entidad gubernamental responsable de la gestión de la salud de **Italia** (pais seleccionado) enfrenta el desafío de comprender y analizar la propagación del COVID-19 para tomar decisiones informadas y eficaces en la gestión de la pandemia."
   ]
  },
  {
   "cell_type": "markdown",
   "metadata": {
    "id": "gEj1xMlBZLvr"
   },
   "source": [
    "## **Configuración del Ambiente**"
   ]
  },
  {
   "cell_type": "code",
   "execution_count": 1,
   "metadata": {
    "colab": {
     "base_uri": "https://localhost:8080/"
    },
    "id": "G_VrcHX3ZPhL",
    "outputId": "f3b1830f-ef64-431c-e217-45213c742b2c"
   },
   "outputs": [
    {
     "name": "stdout",
     "output_type": "stream",
     "text": [
      "Python 3.11.7\n"
     ]
    }
   ],
   "source": [
    "''' Descomentar este para instalar todo\n",
    "%%bash\n",
    "pip install --upgrade pip\n",
    "pip install -r requirements.txt\n",
    "'''\n",
    "!python -V"
   ]
  },
  {
   "cell_type": "code",
   "execution_count": 2,
   "metadata": {},
   "outputs": [],
   "source": [
    "\"\"\"\n",
    "    Con esta versión en Python 3.11.7 \n",
    "    me salía RuntimeWarning y DataFrameGroupBy\n",
    "    y no podía corregirlo para que quede estético\n",
    "    en deepnote usa 3.11.4 y en google-colab la 3.10.12 \n",
    "    no muestra el error\n",
    "\"\"\"\n",
    "\n",
    "\n",
    "import warnings\n",
    "\n",
    "\n",
    "warnings.filterwarnings(\n",
    "    \"ignore\",\n",
    "    message=\"DataFrameGroupBy.apply operated on the grouping columns\"\n",
    ")\n",
    "\n",
    "warnings.filterwarnings(\n",
    "    \"ignore\", category=RuntimeWarning\n",
    ")"
   ]
  },
  {
   "cell_type": "markdown",
   "metadata": {
    "id": "Z36FPafpNljx"
   },
   "source": [
    "## **Obtención, Tratamiento y Análisis Exploratorio (EDA)**"
   ]
  },
  {
   "cell_type": "code",
   "execution_count": null,
   "metadata": {
    "id": "9neB-czKZP_Y"
   },
   "outputs": [],
   "source": [
    "# Cargando las bases de datos\n",
    "import pandas as pd\n",
    "from io import StringIO\n",
    "import requests as req\n",
    "\n",
    "\n",
    "df_covid = pd.read_csv(\n",
    "    StringIO(\n",
    "        req.get(\n",
    "            \"https://covid19.who.int/WHO-COVID-19-global-data.csv\"\n",
    "        ).text\n",
    "    )\n",
    ")\n",
    "df_population = pd.read_excel(\n",
    "    'https://raw.githubusercontent.com/ElProfeAlejo/Bootcamp_Databases/main/WPP2022_GEN_F01_DEMOGRAPHIC_INDICATORS_COMPACT_REV1.xlsx',\n",
    "    sheet_name=0, skiprows=16\n",
    ")\n",
    "df_population = df_population[df_population['Year'] == 2019]"
   ]
  },
  {
   "cell_type": "code",
   "execution_count": null,
   "metadata": {
    "id": "ztd0z1rWZQRI"
   },
   "outputs": [],
   "source": [
    "#df_population"
   ]
  },
  {
   "cell_type": "code",
   "execution_count": null,
   "metadata": {
    "id": "unO0WSWsZQnE"
   },
   "outputs": [],
   "source": [
    "#df_covid"
   ]
  },
  {
   "cell_type": "code",
   "execution_count": null,
   "metadata": {
    "id": "XlY6t7xJZo-C"
   },
   "outputs": [],
   "source": [
    "'''\n",
    "    Transformar datos de df_covid\n",
    "'''\n",
    "\n",
    "covid_transform = df_covid.copy()\n",
    "\n",
    "covid_transform = covid_transform.dropna(subset=['Country_code'])\n",
    "\n",
    "\n",
    "covid_transform = covid_transform[\n",
    "    [\n",
    "        'Date_reported','Country_code','Country',\n",
    "        'New_cases','Cumulative_cases','New_deaths',\n",
    "        'Cumulative_deaths'\n",
    "    ]\n",
    "]\n",
    "\n",
    "\n",
    "covid_transform = covid_transform.fillna(0)\n",
    "\n",
    "covid_transform['Date_reported'] = pd.to_datetime(\n",
    "    covid_transform['Date_reported']\n",
    ")\n",
    "covid_transform['New_cases'] = covid_transform['New_cases'].astype('int64')\n",
    "covid_transform['New_deaths'] = covid_transform['New_deaths'].astype('int64')\n",
    "\n",
    "covid_cleaned = covid_transform.copy()\n",
    "\n",
    "covid_cleaned['lethality_rate'] = (\n",
    "    covid_cleaned['Cumulative_deaths'] / covid_cleaned['Cumulative_cases']\n",
    ") * 100\n",
    "\n",
    "covid_cleaned = covid_cleaned.reset_index(drop=True)"
   ]
  },
  {
   "cell_type": "code",
   "execution_count": null,
   "metadata": {
    "colab": {
     "base_uri": "https://localhost:8080/"
    },
    "id": "lu5mYD5wZzTI",
    "outputId": "10873996-fe84-4447-e7e8-cb2356c15685"
   },
   "outputs": [],
   "source": [
    "covid_cleaned.info()"
   ]
  },
  {
   "cell_type": "code",
   "execution_count": null,
   "metadata": {
    "colab": {
     "base_uri": "https://localhost:8080/",
     "height": 300
    },
    "id": "s_pALQDuZ1tp",
    "outputId": "cbc4e920-78f7-4fb4-deaa-cffbae7a8a5c"
   },
   "outputs": [],
   "source": [
    "covid_cleaned.describe()"
   ]
  },
  {
   "cell_type": "code",
   "execution_count": null,
   "metadata": {
    "id": "W4MUcFfVZ28y"
   },
   "outputs": [],
   "source": [
    "#covid_cleaned"
   ]
  },
  {
   "cell_type": "code",
   "execution_count": null,
   "metadata": {
    "id": "7WaMgtRqZ48z"
   },
   "outputs": [],
   "source": [
    "\"\"\"\n",
    "    Transformar datos de df_population\n",
    "\"\"\"\n",
    "\n",
    "population_transform = df_population.copy()\n",
    "\n",
    "population_transform = population_transform[\n",
    "    [\n",
    "        'ISO2 Alpha-code',\n",
    "        'Total Population, as of 1 July (thousands)',\n",
    "        'Male Population, as of 1 July (thousands)',\n",
    "        'Female Population, as of 1 July (thousands)',\n",
    "        'Population Density, as of 1 July (persons per square km)',\n",
    "        'Life Expectancy at Birth, both sexes (years)'\n",
    "    ]\n",
    "]\n",
    "\n",
    "population_transform = population_transform.rename(\n",
    "    columns={\n",
    "        'ISO2 Alpha-code': 'Country_code',\n",
    "        'Total Population, as of 1 July (thousands)': 'Total_Population',\n",
    "        'Male Population, as of 1 July (thousands)': 'Male_Population',\n",
    "        'Female Population, as of 1 July (thousands)': 'Female_Population',\n",
    "        'Population Density, as of 1 July (persons per square km)': 'Population_Density',\n",
    "        'Life Expectancy at Birth, both sexes (years)': 'Life_Expectancy'\n",
    "    }\n",
    ")\n",
    "\n",
    "population_cleaned = population_transform.dropna().copy()\n",
    "\n",
    "population_cleaned['Life_Expectancy'] = pd.to_numeric(\n",
    "    population_cleaned['Life_Expectancy'], errors='coerce'\n",
    ").fillna(0).astype('float64')\n",
    "\n",
    "columns_to_convert = [\n",
    "    'Total_Population', 'Male_Population',\n",
    "    'Female_Population', 'Population_Density'\n",
    "]\n",
    "\n",
    "for column in columns_to_convert:\n",
    "    population_cleaned[column] = pd.to_numeric(\n",
    "        population_cleaned[column], errors='coerce'\n",
    "    ).fillna(0).astype('int64')\n",
    "\n",
    "population_cleaned[\n",
    "    ['Total_Population', 'Male_Population', 'Female_Population']\n",
    "] *= 1000\n",
    "\n",
    "population_cleaned = population_cleaned.dropna()\n",
    "\n",
    "population_cleaned = population_cleaned.reset_index(drop=True)"
   ]
  },
  {
   "cell_type": "code",
   "execution_count": null,
   "metadata": {
    "id": "vjUZxpuTf1UX"
   },
   "outputs": [],
   "source": [
    "#population_cleaned"
   ]
  },
  {
   "cell_type": "code",
   "execution_count": null,
   "metadata": {
    "colab": {
     "base_uri": "https://localhost:8080/"
    },
    "id": "Va3SOgc4aSHT",
    "outputId": "4fcb177c-0ce5-4226-ad0b-ee45b5ea5882"
   },
   "outputs": [],
   "source": [
    "population_cleaned.info()"
   ]
  },
  {
   "cell_type": "code",
   "execution_count": null,
   "metadata": {
    "colab": {
     "base_uri": "https://localhost:8080/",
     "height": 300
    },
    "id": "D1izd4HcaUk7",
    "outputId": "65230684-7f5a-4fb4-8703-1f145101c42b"
   },
   "outputs": [],
   "source": [
    "population_cleaned.describe()"
   ]
  },
  {
   "cell_type": "code",
   "execution_count": null,
   "metadata": {
    "id": "9xuI9K3ecy_R"
   },
   "outputs": [],
   "source": [
    "import squarify\n",
    "import numpy as np\n",
    "import seaborn as sns\n",
    "import matplotlib.pyplot as plt\n",
    "from matplotlib.ticker import FuncFormatter\n",
    "from sklearn.metrics import mean_squared_error\n",
    "from sklearn.ensemble import RandomForestRegressor\n",
    "from sklearn.model_selection import train_test_split"
   ]
  },
  {
   "cell_type": "markdown",
   "metadata": {},
   "source": [
    "Como científico de datos, tu tarea es analizar los datos relacionados con el COVID-19 y presentar insights a través de visualizaciones que respondan a las siguientes preguntas clave:"
   ]
  },
  {
   "cell_type": "markdown",
   "metadata": {
    "id": "W0pJoEb3YrsI"
   },
   "source": [
    "## 1. ¿Cómo ha evolucionado el Covid-19 en el país en comparación con el impacto observado a nivel global?\n",
    "\n"
   ]
  },
  {
   "cell_type": "code",
   "execution_count": null,
   "metadata": {
    "colab": {
     "base_uri": "https://localhost:8080/"
    },
    "id": "3s9VG4DfYj1k",
    "outputId": "bda09953-cddf-4ada-8380-c06218962a8b"
   },
   "outputs": [],
   "source": [
    "# Worldwide Distribution\n",
    "\n",
    "replacement = {\n",
    "    'United States of America': 'USA',\n",
    "    'United Kingdom of Great Britain and Northern Ireland': 'UK'\n",
    "}\n",
    "\n",
    "covid_cleaned.replace(replacement, inplace=True)\n",
    "\n",
    "total_por_pais = (\n",
    "    covid_cleaned.groupby('Country')['Cumulative_cases']\n",
    "    .max()\n",
    "    .sort_values(ascending=False)\n",
    ")\n",
    "\n",
    "top_10_paises = total_por_pais.nlargest(10)\n",
    "otros = total_por_pais.drop(top_10_paises.index).sum()\n",
    "top_10_paises['Otros'] = otros\n",
    "top_10_paises"
   ]
  },
  {
   "cell_type": "code",
   "execution_count": null,
   "metadata": {
    "colab": {
     "base_uri": "https://localhost:8080/",
     "height": 336
    },
    "id": "AdxEjGiibuQz",
    "outputId": "e8f83976-1ab9-4e05-bf22-9067125311bc"
   },
   "outputs": [],
   "source": [
    "total_por_pais = (\n",
    "    covid_cleaned\n",
    "    .groupby('Country')['Cumulative_cases']\n",
    "    .max()\n",
    "    .sort_values(ascending=False)\n",
    ")\n",
    "\n",
    "top_5_paises = total_por_pais.nlargest(5)\n",
    "\n",
    "top_5_paises.loc['Italy'] = total_por_pais.loc['Italy']\n",
    "\n",
    "df_covid_limpio_reset = covid_cleaned.reset_index()\n",
    "\n",
    "df_top_5 = df_covid_limpio_reset[\n",
    "    df_covid_limpio_reset['Country'].isin(top_5_paises.index)\n",
    "    ]\n",
    "\n",
    "total_acumulado_top_5 = df_top_5.pivot(\n",
    "    index='Country',\n",
    "    columns='Date_reported',\n",
    "    values='Cumulative_cases'\n",
    ").fillna(0)\n",
    "\n",
    "total_acumulado_top_5"
   ]
  },
  {
   "cell_type": "code",
   "execution_count": null,
   "metadata": {
    "colab": {
     "base_uri": "https://localhost:8080/",
     "height": 507
    },
    "id": "QVhfHmFimdVM",
    "outputId": "1fdd10c7-5a79-407b-a0bb-a7a89f891790"
   },
   "outputs": [],
   "source": [
    "\"\"\"\n",
    "    Gráficos de Treemap con Líneas\n",
    "\"\"\"\n",
    "\n",
    "percentages = [(value / total_por_pais.sum()) * 100 for value in top_10_paises.to_list()]\n",
    "\n",
    "# Crea las etiquetas con los porcentajes\n",
    "labels = [f'{country}\\n {value:.2f}%' for country, value in zip(top_10_paises.index.to_list(), percentages)]\n",
    "\n",
    "fig, axs = plt.subplots(1, 2, figsize=(12, 5))\n",
    "\n",
    "# Treemap con Squarify en axs[0]\n",
    "squarify.plot(\n",
    "    sizes=top_10_paises.to_list(),\n",
    "    ax=axs[0], pad=2,\n",
    "    label=labels, alpha=.8,\n",
    "    color=sns.color_palette(\"Spectral\", len(top_10_paises))\n",
    ")\n",
    "axs[0].set_title('Distribución mundial de casos reportados')\n",
    "axs[0].axis('off')\n",
    "\n",
    "# Gráfico de Líneas en axs[1]\n",
    "for pais in top_5_paises.index:\n",
    "    days_since_start = (\n",
    "        total_acumulado_top_5.columns - total_acumulado_top_5.columns[0]\n",
    "        ).days\n",
    "    axs[1].plot(days_since_start, total_acumulado_top_5.loc[pais], label=pais)\n",
    "\n",
    "axs[1].set_title('Progresión de casos por país')\n",
    "axs[1].set_xlabel('Días desde el inicio de la pandemia')\n",
    "axs[1].legend()\n",
    "\n",
    "plt.savefig('evolucion_italia_vs_mundo.png')\n",
    "plt.tight_layout()\n",
    "plt.show()\n"
   ]
  },
  {
   "cell_type": "markdown",
   "metadata": {},
   "source": [
    "Italia se encuentra en la posición 9 de los países con mayores casos de COVID acumulados hasta la fecha, ha experimentado un crecimiento moderado pero constante de los casos de COVID-19 en comparación con otros países. Si bien en el año 2022 hubo un aumento considerable de casos diarios, fue menor que en lo observado en los otros países del top 5."
   ]
  },
  {
   "cell_type": "markdown",
   "metadata": {
    "id": "EtyzMXMrY587"
   },
   "source": [
    "## 2.¿Cuál ha sido la evolución de los nuevos casos diarios reportados de Covid-19 en el país a lo largo del tiempo?"
   ]
  },
  {
   "cell_type": "code",
   "execution_count": null,
   "metadata": {
    "colab": {
     "base_uri": "https://localhost:8080/",
     "height": 468
    },
    "id": "rAzkbOBcF7nF",
    "outputId": "4f8bbddd-aae8-42c1-d0eb-51447b857dee"
   },
   "outputs": [],
   "source": [
    "#Daily New Cases\n",
    "grouped_df = (\n",
    "    covid_cleaned\n",
    "    .groupby(['Country', 'Date_reported'])['Cumulative_cases']\n",
    "    .sum()\n",
    "    .unstack()\n",
    ")\n",
    "\n",
    "grouped_df = grouped_df.reset_index()\n",
    "grouped_df = grouped_df.set_index('Country')\n",
    "grouped_df = grouped_df.loc[['Italy']]\n",
    "fechas = grouped_df.columns\n",
    "\n",
    "new_cases = (\n",
    "    grouped_df[fechas]\n",
    "    .diff(axis=1)\n",
    "    .fillna(grouped_df[fechas])\n",
    "    .sum(axis=0)\n",
    ")\n",
    "\n",
    "\n",
    "calplot_new_cases = new_cases.copy()\n",
    "calplot_new_cases.index = pd.to_datetime(calplot_new_cases.index)\n",
    "calplot_2022 = calplot_new_cases.loc['2022']\n",
    "\n",
    "\n",
    "fig, ax = plt.subplots(figsize=(12, 5),facecolor='#F8F8FF')\n",
    "\n",
    "ax.stem(\n",
    "    new_cases.index, new_cases.values/1e3, basefmt='None', markerfmt= ''\n",
    "    )\n",
    "\n",
    "\n",
    "plt.text(\n",
    "    new_cases.index[120], 800,\n",
    "    f'Además, solo\\nEnero del 2022\\nes el {round((calplot_2022[calplot_2022.index.month == 1].sum() * 100 / top_10_paises[\"Italy\"]), 1)}%',\n",
    "    bbox = {'facecolor': '#87CEFA', 'alpha': 0.5, 'pad': 8}\n",
    "    )\n",
    "\n",
    "plt.text(\n",
    "    new_cases.index[45], 990,\n",
    "    f'En todo el 2022 corresponde\\nal {round((calplot_2022.sum() * 100 / top_10_paises[\"Italy\"]), 1)}% de los casos\\nreportados hasta hoy',\n",
    "    bbox = {'facecolor': '#87CEFA', 'alpha': 0.5, 'pad': 8}\n",
    "    )\n",
    "\n",
    "plt.ylabel('en miles de casos')\n",
    "plt.title('Casos diarios reportados en Italia')\n",
    "plt.savefig('italia_casos_diarios.png')\n",
    "\n",
    "plt.show()"
   ]
  },
  {
   "cell_type": "code",
   "execution_count": null,
   "metadata": {
    "colab": {
     "base_uri": "https://localhost:8080/",
     "height": 1000
    },
    "id": "FH8iUxKKzqEI",
    "outputId": "373f2173-8d75-46ff-c59c-9d3041c544f8",
    "scrolled": true
   },
   "outputs": [],
   "source": [
    "\"\"\"\n",
    "    Este fue que me dejó ver que se borraron reportes por limpiar datos outsiders\n",
    "    en la variable de letalidad\n",
    "    \n",
    "    Para usar la librería calplot se debe descargar\n",
    "    la fuente Helvetica y cargar a matplotlib\n",
    "\"\"\"\n",
    "\n",
    "import os\n",
    "import calplot\n",
    "from matplotlib.font_manager import fontManager,FontProperties\n",
    "\n",
    "\n",
    "fontManager.addfont(f'{os.getcwd()}/Helvetica.ttf')\n",
    "\n",
    "calplot.calplot(\n",
    "    calplot_new_cases, cmap = 'Spectral_r',\n",
    "    vmin=1e5, vmax=1e6, yearascending = False\n",
    "    )\n",
    "\n",
    "plt.show()"
   ]
  },
  {
   "cell_type": "code",
   "execution_count": null,
   "metadata": {},
   "outputs": [],
   "source": [
    "calplot.calplot(\n",
    "    calplot_2022,\n",
    "    cmap = 'Spectral_r',\n",
    "    vmin=1e5, vmax=1e6\n",
    "    )\n",
    "\n",
    "\n",
    "plt.title('Casos semanales reportados en Italia en 2022')\n",
    "plt.savefig('calplot_italia_2022.png')\n",
    "\n",
    "plt.show()"
   ]
  },
  {
   "cell_type": "markdown",
   "metadata": {},
   "source": [
    "Los datos indican que en el año 2022 es donde se reportan una mayor cantidad de casos. Observándose varios picos principalmente en Enero que éste duró hasta fines de Febrero, luego gradualmente picos menores en las quinceras de Julio y Octubre."
   ]
  },
  {
   "cell_type": "markdown",
   "metadata": {
    "id": "xeiAL2W5Y9Vx"
   },
   "source": [
    "## 3. ¿Cuál es la evolución del índice de letalidad del Covid-19 en el país, comparado con los países con los índices históricos más elevados?"
   ]
  },
  {
   "cell_type": "code",
   "execution_count": null,
   "metadata": {
    "colab": {
     "base_uri": "https://localhost:8080/",
     "height": 300
    },
    "id": "cQZDnZlXYxi4",
    "outputId": "adef1f86-b58a-4cc7-8a0b-dc30a6c0124e"
   },
   "outputs": [],
   "source": [
    "#Lethality Rate by Country - Limpieza de Datos\n",
    "\n",
    "quantile_0 = covid_cleaned['lethality_rate'].quantile(0)\n",
    "quantile_99 = covid_cleaned['lethality_rate'].quantile(0.99)\n",
    "\n",
    "covid_lethality = covid_cleaned[\n",
    "    (\n",
    "        covid_cleaned['lethality_rate'] >= quantile_0\n",
    "    ) & (\n",
    "        covid_cleaned['lethality_rate'] <= quantile_99\n",
    "    )\n",
    "]\n",
    "\n",
    "covid_lethality = covid_lethality.reset_index(drop=True)\n",
    "\n",
    "\n",
    "covid_lethality.describe()"
   ]
  },
  {
   "cell_type": "code",
   "execution_count": null,
   "metadata": {
    "colab": {
     "base_uri": "https://localhost:8080/",
     "height": 394
    },
    "id": "BVv85KtTZAMj",
    "outputId": "b4af059b-27a6-4890-f0ea-9630d8fc9ab6"
   },
   "outputs": [],
   "source": [
    "def get_max_row(group, column):\n",
    "    return group.loc[group[column].idxmax()]\n",
    "\n",
    "result = covid_lethality.groupby(\n",
    "    ['Country', covid_lethality['Date_reported'].dt.to_period(\"M\")]\n",
    "    ).apply(lambda group: get_max_row(group, 'lethality_rate')\n",
    ")\n",
    "\n",
    "result.reset_index(drop=True, inplace=True)\n",
    "top_4_paises = (\n",
    "    result.groupby('Country')['lethality_rate']\n",
    "    .mean()\n",
    "    .nlargest(4)\n",
    "    .index\n",
    ")\n",
    "\n",
    "result = result[result['Country'].isin(top_4_paises)]\n",
    "\n",
    "result_pais = (\n",
    "    covid_lethality[covid_lethality['Country'] == 'Italy']\n",
    "    .groupby(\n",
    "        covid_lethality['Date_reported'].dt.to_period(\"M\"))\n",
    "    .apply(lambda group: get_max_row(group, 'lethality_rate'))\n",
    ")\n",
    "\n",
    "result_pais.reset_index(drop=True, inplace=True)\n",
    "result_final = pd.concat([result, result_pais])\n",
    "\n",
    "fig, ax = plt.subplots(figsize=(12, 4))\n",
    "for pais in result_final['Country'].unique():\n",
    "    country_data = result_final[result_final['Country'] == pais]\n",
    "    ax.plot(\n",
    "        country_data['Date_reported'],\n",
    "        country_data['lethality_rate'],\n",
    "        label=pais\n",
    "        )\n",
    "\n",
    "\n",
    "# Agrega un punto en el máximo pico de letalidad para Italia\n",
    "\n",
    "max_lethality_index = result_pais['lethality_rate'].idxmax()\n",
    "max_lethality_date = result_pais.loc[max_lethality_index, 'Date_reported']\n",
    "max_lethality_value = result_pais.loc[max_lethality_index, 'lethality_rate']\n",
    "\n",
    "\n",
    "ax.scatter(\n",
    "    max_lethality_date,\n",
    "    max_lethality_value,\n",
    "    color='#8b008b', marker='o'\n",
    "    )\n",
    "\n",
    "ax.annotate(\n",
    "    f'Italy: {max_lethality_value:.2f}%',\n",
    "    xy=(max_lethality_date, max_lethality_value),\n",
    "    xytext=(\n",
    "        max_lethality_date + pd.DateOffset(days=300),\n",
    "        max_lethality_value - 0.1\n",
    "    ),  # Ajusta la posición del texto\n",
    "    arrowprops=dict(\n",
    "        color='#8b008b', arrowstyle='->', lw=1.5\n",
    "        ),  # Estilo de la flecha\n",
    "    fontsize=10, color='#8b008b',\n",
    "    ha='center', va='bottom', weight='bold'\n",
    ")\n",
    "\n",
    "\n",
    "# Agregando porcentaje en el eje Y\n",
    "\n",
    "def porcent_formatter(y, pos):\n",
    "    return f'{y*1:.0f}%'\n",
    "\n",
    "formatter = FuncFormatter(porcent_formatter)\n",
    "plt.gca().yaxis.set_major_formatter(formatter)\n",
    "\n",
    "ax.legend()\n",
    "\n",
    "ax.set_title(\n",
    "    'Letalidad por país', fontsize=16,\n",
    "    color='#212529', loc='center'\n",
    "    )\n",
    "\n",
    "plt.savefig('letalidad_por_pais.png')\n",
    "\n",
    "\n",
    "plt.show()"
   ]
  },
  {
   "cell_type": "markdown",
   "metadata": {},
   "source": [
    "Italia llega a tener su pico de letalidad fue de 12.47%, para septiembre del 2020. Disminuyendo en diciembre del mismo año a un 3.5% llegando a valores de menos de 1,5% a partir de febrero del 2022."
   ]
  },
  {
   "cell_type": "markdown",
   "metadata": {
    "id": "pKhHiVgYZAsT"
   },
   "source": [
    "## 4. Desde una perspectiva demográfica, ¿cuáles son las características que tienen un mayor impacto en el índice de letalidad de un país?"
   ]
  },
  {
   "cell_type": "code",
   "execution_count": null,
   "metadata": {
    "colab": {
     "base_uri": "https://localhost:8080/",
     "height": 238
    },
    "id": "usMKcxFKZCUE",
    "outputId": "3459a72d-7647-4a97-9127-93b0390c290e"
   },
   "outputs": [],
   "source": [
    "#Características demográficas más relevantes\n",
    "df_filtrado = covid_lethality[\n",
    "    covid_lethality['Date_reported'] <= '2020-12-31'\n",
    "    ]\n",
    "\n",
    "df_agrupado = df_filtrado.groupby(\n",
    "    ['Country_code', 'Country'], as_index=False\n",
    ")['lethality_rate'].mean()\n",
    "\n",
    "df_final = pd.merge(\n",
    "    df_agrupado, population_cleaned, on='Country_code', how='inner'\n",
    "    )\n",
    "\n",
    "columnas_seleccionadas = [\n",
    "    'lethality_rate', 'Total_Population', 'Male_Population',\n",
    "    'Female_Population', 'Population_Density', 'Life_Expectancy',\n",
    "    ]\n",
    "\n",
    "df_final = df_final[columnas_seleccionadas]\n",
    "\n",
    "\n",
    "# Para hacer Regresión con Bosques Aleatorios\n",
    "\n",
    "X = df_final.drop(['lethality_rate'], axis=1)\n",
    "y = df_final['lethality_rate']\n",
    "model = RandomForestRegressor()\n",
    "model.fit(X, y)\n",
    "feature_importances = pd.Series(\n",
    "    model.feature_importances_, index=X.columns\n",
    ").sort_values(ascending=False)\n",
    "\n",
    "\n",
    "# Para Matriz de Correlación\n",
    "(\n",
    "    df_final\n",
    "    .corr()[['lethality_rate']]\n",
    "    .sort_values(by='lethality_rate', ascending = False)\n",
    ")"
   ]
  },
  {
   "cell_type": "code",
   "execution_count": null,
   "metadata": {
    "colab": {
     "base_uri": "https://localhost:8080/",
     "height": 580
    },
    "id": "yVz5AmA8iNDG",
    "outputId": "f39c0ede-794b-4ee2-93af-2ad4bd8ddb32"
   },
   "outputs": [],
   "source": [
    "# Para graficar Matriz de Correlación y el de Árbol de Decisiones\n",
    "\n",
    "fig, axs = plt.subplots(1, 2, figsize=(13, 5))\n",
    "\n",
    "fig.suptitle(\n",
    "    'Características demográficas más relevantes - Covid19',\n",
    "    fontsize=14, color='#212529', y=1.02\n",
    ")\n",
    "\n",
    "# Matriz de Correlación\n",
    "\n",
    "axs[0].set_title(\n",
    "    'Matriz de Correlación',\n",
    "    fontsize=12, color='#212529', loc='center'\n",
    ")\n",
    "\n",
    "covid_corr = df_final.drop(['lethality_rate'], axis=1)\n",
    "\n",
    "sns.heatmap(\n",
    "    covid_corr.corr(), annot=True, cmap='Spectral', ax=axs[0],\n",
    "    linewidths=2, linecolor='indigo', vmin=-0.5, vmax=0.5\n",
    ")\n",
    "\n",
    "axs[0].tick_params(axis='x', rotation=30)\n",
    "\n",
    "# Random Forest Regressor\n",
    "\n",
    "feature_importances.plot(kind='bar', ax=axs[1])\n",
    "\n",
    "# Para el eje Y poner porcentaje\n",
    "\n",
    "def porcentaje_formatter(y, pos):\n",
    "    return f'{y*100:.0f}%'\n",
    "\n",
    "formatter = FuncFormatter(porcentaje_formatter)\n",
    "\n",
    "axs[1].yaxis.set_major_formatter(formatter)\n",
    "axs[1].tick_params(axis='x', rotation=30)\n",
    "axs[1].set_ylabel('Importancia')\n",
    "\n",
    "axs[1].set_title(\n",
    "    'Regresión de Bosques Aleatorios',\n",
    "    fontsize=12, color='#212529', loc='center'\n",
    ")\n",
    "\n",
    "plt.savefig('demografia_relevante.png')\n",
    "\n",
    "plt.show()"
   ]
  },
  {
   "cell_type": "markdown",
   "metadata": {},
   "source": [
    "Aunque en primera instancia estudiando la regresión del Random Forest muestra que la población es una característica de alto impacto la verdad con la matriz de correlación concluye que más sería la densidad poblacional una característica importante descartando la cantidad de población del país con sus respectivas cifras entre sexos.\r\n",
    "\r\n",
    "Podemos decir que la esperanza de vida __`Life_Expectancy`__ y la densidad poblacional __`Population_density`__ son las características que tienen un mayor impacto en el índice de letalidad."
   ]
  },
  {
   "cell_type": "markdown",
   "metadata": {},
   "source": [
    "# Conclusiones\n",
    "\n",
    "Cabe destacar que durante el 2020 registrando 10000 casos semanales de promedio tuvo una alta letalidad llegando al 12% lo cual es muy peligroso para cualquier sistema de salud que puede colapsar repentinamente, sin embargo llegando al 2022 alcanzando el pico de casos reportados e incluso representando la mayor cantidad de casos acumulados hasta la fecha, tiene una letalidad menor al 2% destacando a pesar del brote masivo de ese año no era muy mortal para la gente.\n",
    "\n",
    "> Se recomenda estudiar esta relación del año 2022 con la vacunación que relaciones tienen las personas que no se aplicaron las vacunas con las nuevas muertes registradas."
   ]
  },
  {
   "cell_type": "markdown",
   "metadata": {},
   "source": [
    "## Información de sesión\r\n",
    "---"
   ]
  },
  {
   "cell_type": "code",
   "execution_count": null,
   "metadata": {
    "colab": {
     "base_uri": "https://localhost:8080/",
     "height": 34
    },
    "id": "cnn50XUW29u3",
    "outputId": "e8737b3e-45c6-4955-efd7-bb39a75c555d"
   },
   "outputs": [],
   "source": [
    "import session_info\n",
    "\n",
    "session_info.show()"
   ]
  }
 ],
 "metadata": {
  "colab": {
   "provenance": []
  },
  "kernelspec": {
   "display_name": "Python 3 (ipykernel)",
   "language": "python",
   "name": "python3"
  },
  "language_info": {
   "codemirror_mode": {
    "name": "ipython",
    "version": 3
   },
   "file_extension": ".py",
   "mimetype": "text/x-python",
   "name": "python",
   "nbconvert_exporter": "python",
   "pygments_lexer": "ipython3",
   "version": "3.11.7"
  }
 },
 "nbformat": 4,
 "nbformat_minor": 4
}
